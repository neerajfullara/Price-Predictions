{
 "cells": [
  {
   "cell_type": "markdown",
   "metadata": {
    "id": "jy4wsDlm2gEd"
   },
   "source": [
    "**TASK 1: Importing Requirements**"
   ]
  },
  {
   "cell_type": "code",
   "execution_count": null,
   "metadata": {
    "executionInfo": {
     "elapsed": 3007,
     "status": "ok",
     "timestamp": 1701274286776,
     "user": {
      "displayName": "Neeraj Fullara",
      "userId": "05418981568757973235"
     },
     "user_tz": -330
    },
    "id": "dmvZRfpKwVM7"
   },
   "outputs": [],
   "source": [
    "#importing Required Libraries\n",
    "import numpy as np\n",
    "import pandas as pd\n",
    "import sklearn as sk\n",
    "import matplotlib.pyplot as plt\n",
    "import seaborn as sb\n",
    "%matplotlib inline"
   ]
  },
  {
   "cell_type": "markdown",
   "metadata": {
    "id": "jswaCwf61N1c"
   },
   "source": [
    "**Data Visualization Using Pandas, Seaborn, Matplotlip**.\n",
    "**Pandas is used for raeding csv files**"
   ]
  },
  {
   "cell_type": "markdown",
   "metadata": {
    "id": "mFRIRh0z2Urf"
   },
   "source": [
    "**TASK 2: Data Exploration and preprocessing**"
   ]
  },
  {
   "cell_type": "code",
   "execution_count": null,
   "metadata": {
    "colab": {
     "base_uri": "https://localhost:8080/",
     "height": 423
    },
    "executionInfo": {
     "elapsed": 73,
     "status": "ok",
     "timestamp": 1701274286783,
     "user": {
      "displayName": "Neeraj Fullara",
      "userId": "05418981568757973235"
     },
     "user_tz": -330
    },
    "id": "l6kazZkG0TnN",
    "outputId": "231c7736-884c-4b1a-9a84-35eca44bd90e"
   },
   "outputs": [],
   "source": [
    "# Checking data set from the csv file\n",
    "df = pd.read_csv('BostonHousing.csv')\n",
    "# Checking data is correctly saved\n",
    "df"
   ]
  },
  {
   "cell_type": "code",
   "execution_count": null,
   "metadata": {
    "colab": {
     "base_uri": "https://localhost:8080/",
     "height": 206
    },
    "executionInfo": {
     "elapsed": 64,
     "status": "ok",
     "timestamp": 1701274286784,
     "user": {
      "displayName": "Neeraj Fullara",
      "userId": "05418981568757973235"
     },
     "user_tz": -330
    },
    "id": "EizJdq96m1rz",
    "outputId": "5dca8b20-2eca-49b0-8c78-3f648aa0cbc1"
   },
   "outputs": [],
   "source": [
    "df.head()"
   ]
  },
  {
   "cell_type": "code",
   "execution_count": null,
   "metadata": {
    "colab": {
     "base_uri": "https://localhost:8080/",
     "height": 206
    },
    "executionInfo": {
     "elapsed": 62,
     "status": "ok",
     "timestamp": 1701274286785,
     "user": {
      "displayName": "Neeraj Fullara",
      "userId": "05418981568757973235"
     },
     "user_tz": -330
    },
    "id": "bs7N_3QNm1oK",
    "outputId": "e19d316a-0e96-425d-8ada-ddc8f47f933c"
   },
   "outputs": [],
   "source": [
    "df.tail()"
   ]
  },
  {
   "cell_type": "code",
   "execution_count": null,
   "metadata": {
    "colab": {
     "base_uri": "https://localhost:8080/",
     "height": 300
    },
    "executionInfo": {
     "elapsed": 60,
     "status": "ok",
     "timestamp": 1701274286787,
     "user": {
      "displayName": "Neeraj Fullara",
      "userId": "05418981568757973235"
     },
     "user_tz": -330
    },
    "id": "gm3jIz_rnBT7",
    "outputId": "892b7950-8e64-420b-ca7a-9dcc019cf549"
   },
   "outputs": [],
   "source": [
    "df.describe()"
   ]
  },
  {
   "cell_type": "code",
   "execution_count": null,
   "metadata": {
    "colab": {
     "base_uri": "https://localhost:8080/"
    },
    "executionInfo": {
     "elapsed": 1138,
     "status": "ok",
     "timestamp": 1701274287869,
     "user": {
      "displayName": "Neeraj Fullara",
      "userId": "05418981568757973235"
     },
     "user_tz": -330
    },
    "id": "THnIFd0Q37XN",
    "outputId": "aaf9168d-3b72-4221-86c4-d6f4497e4755"
   },
   "outputs": [],
   "source": [
    "df.info() # Getting information of data"
   ]
  },
  {
   "cell_type": "code",
   "execution_count": null,
   "metadata": {
    "colab": {
     "base_uri": "https://localhost:8080/"
    },
    "executionInfo": {
     "elapsed": 69,
     "status": "ok",
     "timestamp": 1701274287872,
     "user": {
      "displayName": "Neeraj Fullara",
      "userId": "05418981568757973235"
     },
     "user_tz": -330
    },
    "id": "R1nEhnoO4asA",
    "outputId": "950c9c7e-0928-43fe-9801-efebdae7c7fe"
   },
   "outputs": [],
   "source": [
    "df.isnull().sum()"
   ]
  },
  {
   "cell_type": "code",
   "execution_count": null,
   "metadata": {
    "colab": {
     "base_uri": "https://localhost:8080/",
     "height": 703
    },
    "executionInfo": {
     "elapsed": 64,
     "status": "ok",
     "timestamp": 1701274287873,
     "user": {
      "displayName": "Neeraj Fullara",
      "userId": "05418981568757973235"
     },
     "user_tz": -330
    },
    "id": "iTBvDSTa5LeN",
    "outputId": "1652af3d-560f-4584-b157-bd03ca6a3d72"
   },
   "outputs": [],
   "source": [
    "# Create a box plot using Seaborn\n",
    "sb.set(style = \"darkgrid\")\n",
    "plt.figure(figsize=(10,8))\n",
    "sb.boxplot(data=df, orient=\"v\")\n",
    "plt.title(\"Box Plot of Boston Housing Data\")\n",
    "plt.show()"
   ]
  },
  {
   "cell_type": "code",
   "execution_count": null,
   "metadata": {
    "colab": {
     "base_uri": "https://localhost:8080/",
     "height": 841
    },
    "executionInfo": {
     "elapsed": 2295,
     "status": "ok",
     "timestamp": 1701274290526,
     "user": {
      "displayName": "Neeraj Fullara",
      "userId": "05418981568757973235"
     },
     "user_tz": -330
    },
    "id": "MY6s_C7L2ZPN",
    "outputId": "782815f3-f105-4b42-a4c0-77c04682af9a"
   },
   "outputs": [],
   "source": [
    "# Creating Heatmap by seaborn\n",
    "plt.figure(figsize=(13,10))\n",
    "# sb.heatmap(df.isnull()) #Checking is their any value is null\n",
    "sb.heatmap(df.corr(),annot = True)\n",
    "plt.show()"
   ]
  },
  {
   "cell_type": "code",
   "execution_count": null,
   "metadata": {
    "colab": {
     "base_uri": "https://localhost:8080/",
     "height": 475
    },
    "executionInfo": {
     "elapsed": 1179,
     "status": "ok",
     "timestamp": 1701274291693,
     "user": {
      "displayName": "Neeraj Fullara",
      "userId": "05418981568757973235"
     },
     "user_tz": -330
    },
    "id": "2seakwlJkA1t",
    "outputId": "1a928845-99da-4f9b-99aa-857dedf4dd3a"
   },
   "outputs": [],
   "source": [
    "sb.kdeplot(df,x=\"crim\")"
   ]
  },
  {
   "cell_type": "code",
   "execution_count": null,
   "metadata": {
    "colab": {
     "base_uri": "https://localhost:8080/",
     "height": 475
    },
    "executionInfo": {
     "elapsed": 18,
     "status": "ok",
     "timestamp": 1701274291694,
     "user": {
      "displayName": "Neeraj Fullara",
      "userId": "05418981568757973235"
     },
     "user_tz": -330
    },
    "id": "8QQbUbedkAt7",
    "outputId": "4bc368ea-ef53-4e23-e9b3-9f44f99afa97"
   },
   "outputs": [],
   "source": [
    "sb.kdeplot(df,x = \"zn\")\n"
   ]
  },
  {
   "cell_type": "code",
   "execution_count": null,
   "metadata": {
    "colab": {
     "base_uri": "https://localhost:8080/",
     "height": 475
    },
    "executionInfo": {
     "elapsed": 1581,
     "status": "ok",
     "timestamp": 1701274293262,
     "user": {
      "displayName": "Neeraj Fullara",
      "userId": "05418981568757973235"
     },
     "user_tz": -330
    },
    "id": "WhglrFhzkAjC",
    "outputId": "18fa7c9b-762e-43c1-e10d-71ba1411cae1"
   },
   "outputs": [],
   "source": [
    "sb.kdeplot(df,x = \"indus\")\n"
   ]
  },
  {
   "cell_type": "code",
   "execution_count": null,
   "metadata": {
    "colab": {
     "base_uri": "https://localhost:8080/",
     "height": 475
    },
    "executionInfo": {
     "elapsed": 902,
     "status": "ok",
     "timestamp": 1701274294138,
     "user": {
      "displayName": "Neeraj Fullara",
      "userId": "05418981568757973235"
     },
     "user_tz": -330
    },
    "id": "RZypSsSolGzE",
    "outputId": "c0285bd1-0535-49d4-a7f0-513639241308"
   },
   "outputs": [],
   "source": [
    "sb.kdeplot(df,x = \"chas\")\n"
   ]
  },
  {
   "cell_type": "code",
   "execution_count": null,
   "metadata": {
    "colab": {
     "base_uri": "https://localhost:8080/",
     "height": 475
    },
    "executionInfo": {
     "elapsed": 1586,
     "status": "ok",
     "timestamp": 1701274295710,
     "user": {
      "displayName": "Neeraj Fullara",
      "userId": "05418981568757973235"
     },
     "user_tz": -330
    },
    "id": "IvlQteDblGwV",
    "outputId": "e85197a0-a7a5-4e63-af02-b88247d7a1ab"
   },
   "outputs": [],
   "source": [
    "sb.kdeplot(df,x = \"nox\")\n"
   ]
  },
  {
   "cell_type": "code",
   "execution_count": null,
   "metadata": {
    "colab": {
     "base_uri": "https://localhost:8080/",
     "height": 475
    },
    "executionInfo": {
     "elapsed": 1621,
     "status": "ok",
     "timestamp": 1701274297296,
     "user": {
      "displayName": "Neeraj Fullara",
      "userId": "05418981568757973235"
     },
     "user_tz": -330
    },
    "id": "Kc9OnP1ylGt0",
    "outputId": "48df8d8d-fc97-4228-8cd5-3e3a2ce4a904"
   },
   "outputs": [],
   "source": [
    "sb.kdeplot(df,x = \"rm\")\n"
   ]
  },
  {
   "cell_type": "code",
   "execution_count": null,
   "metadata": {
    "colab": {
     "base_uri": "https://localhost:8080/",
     "height": 477
    },
    "executionInfo": {
     "elapsed": 84,
     "status": "ok",
     "timestamp": 1701274297298,
     "user": {
      "displayName": "Neeraj Fullara",
      "userId": "05418981568757973235"
     },
     "user_tz": -330
    },
    "id": "keBf4aVTlGqo",
    "outputId": "6fd103c8-6ba0-4917-9ca9-b62153bfb2c4"
   },
   "outputs": [],
   "source": [
    "sb.kdeplot(df,x = \"age\")\n"
   ]
  },
  {
   "cell_type": "code",
   "execution_count": null,
   "metadata": {
    "colab": {
     "base_uri": "https://localhost:8080/",
     "height": 475
    },
    "executionInfo": {
     "elapsed": 75,
     "status": "ok",
     "timestamp": 1701274297300,
     "user": {
      "displayName": "Neeraj Fullara",
      "userId": "05418981568757973235"
     },
     "user_tz": -330
    },
    "id": "aULJFm-OlGne",
    "outputId": "24f31512-3bb3-47af-bcaf-60825afd9fb3"
   },
   "outputs": [],
   "source": [
    "sb.kdeplot(df,x = \"dis\")\n"
   ]
  },
  {
   "cell_type": "code",
   "execution_count": null,
   "metadata": {
    "colab": {
     "base_uri": "https://localhost:8080/",
     "height": 475
    },
    "executionInfo": {
     "elapsed": 1470,
     "status": "ok",
     "timestamp": 1701274298704,
     "user": {
      "displayName": "Neeraj Fullara",
      "userId": "05418981568757973235"
     },
     "user_tz": -330
    },
    "id": "kUirK7-4lO4e",
    "outputId": "487e487f-97a9-4750-eff9-b6b0661bb567"
   },
   "outputs": [],
   "source": [
    "sb.kdeplot(df,x = \"rad\")\n"
   ]
  },
  {
   "cell_type": "code",
   "execution_count": null,
   "metadata": {
    "colab": {
     "base_uri": "https://localhost:8080/",
     "height": 475
    },
    "executionInfo": {
     "elapsed": 56,
     "status": "ok",
     "timestamp": 1701274298708,
     "user": {
      "displayName": "Neeraj Fullara",
      "userId": "05418981568757973235"
     },
     "user_tz": -330
    },
    "id": "GmVeuqrYlO1f",
    "outputId": "ef489b7f-e288-404b-d005-b509503924d7"
   },
   "outputs": [],
   "source": [
    "sb.kdeplot(df,x = \"tax\")\n"
   ]
  },
  {
   "cell_type": "code",
   "execution_count": null,
   "metadata": {
    "colab": {
     "base_uri": "https://localhost:8080/",
     "height": 478
    },
    "executionInfo": {
     "elapsed": 47,
     "status": "ok",
     "timestamp": 1701274298709,
     "user": {
      "displayName": "Neeraj Fullara",
      "userId": "05418981568757973235"
     },
     "user_tz": -330
    },
    "id": "47fZ1L0qlOyj",
    "outputId": "37803da7-69c8-4538-a6af-1eb308310a1d"
   },
   "outputs": [],
   "source": [
    "sb.kdeplot(df,x = \"ptratio\")\n"
   ]
  },
  {
   "cell_type": "code",
   "execution_count": null,
   "metadata": {
    "colab": {
     "base_uri": "https://localhost:8080/",
     "height": 475
    },
    "executionInfo": {
     "elapsed": 1427,
     "status": "ok",
     "timestamp": 1701274300098,
     "user": {
      "displayName": "Neeraj Fullara",
      "userId": "05418981568757973235"
     },
     "user_tz": -330
    },
    "id": "3usEq5GGlOvq",
    "outputId": "8d8af24d-2cd5-438a-9c56-c8f2aeeaac90"
   },
   "outputs": [],
   "source": [
    "sb.kdeplot(df,x = \"b\")\n"
   ]
  },
  {
   "cell_type": "code",
   "execution_count": null,
   "metadata": {
    "colab": {
     "base_uri": "https://localhost:8080/",
     "height": 475
    },
    "executionInfo": {
     "elapsed": 51,
     "status": "ok",
     "timestamp": 1701274300099,
     "user": {
      "displayName": "Neeraj Fullara",
      "userId": "05418981568757973235"
     },
     "user_tz": -330
    },
    "id": "s7xOgixclOqa",
    "outputId": "8a5afe99-957c-4fe0-8892-3e50944f834c"
   },
   "outputs": [],
   "source": [
    "sb.kdeplot(df,x = \"lstat\")\n"
   ]
  },
  {
   "cell_type": "code",
   "execution_count": null,
   "metadata": {
    "colab": {
     "base_uri": "https://localhost:8080/",
     "height": 475
    },
    "executionInfo": {
     "elapsed": 42,
     "status": "ok",
     "timestamp": 1701274300100,
     "user": {
      "displayName": "Neeraj Fullara",
      "userId": "05418981568757973235"
     },
     "user_tz": -330
    },
    "id": "gRmrAe4QlOnx",
    "outputId": "87f6f0be-457e-42ab-f899-7dad1e95a6f2"
   },
   "outputs": [],
   "source": [
    "sb.kdeplot(df,x = \"medv\")"
   ]
  },
  {
   "cell_type": "code",
   "execution_count": null,
   "metadata": {
    "colab": {
     "base_uri": "https://localhost:8080/",
     "height": 1000,
     "output_embedded_package_id": "1Z0GpNTUhVdSABQTxG1LhYAJX2o-tP2Mt"
    },
    "executionInfo": {
     "elapsed": 88440,
     "status": "ok",
     "timestamp": 1701274388504,
     "user": {
      "displayName": "Neeraj Fullara",
      "userId": "05418981568757973235"
     },
     "user_tz": -330
    },
    "id": "D_Qgl6hi0SYX",
    "outputId": "b3ee079c-d5ef-40f4-9baa-f973d563fe7d"
   },
   "outputs": [],
   "source": [
    "sb.pairplot(df)"
   ]
  },
  {
   "cell_type": "markdown",
   "metadata": {
    "id": "4OIU2XIVVWXN"
   },
   "source": [
    "**Normalization of Data**"
   ]
  },
  {
   "cell_type": "code",
   "execution_count": null,
   "metadata": {
    "executionInfo": {
     "elapsed": 102,
     "status": "ok",
     "timestamp": 1701274388505,
     "user": {
      "displayName": "Neeraj Fullara",
      "userId": "05418981568757973235"
     },
     "user_tz": -330
    },
    "id": "BTjSkOC7U3AH"
   },
   "outputs": [],
   "source": [
    "# Converting data into Normalized form\n",
    "# By Using sKlearn Library\n",
    "from sklearn.preprocessing import MinMaxScaler\n",
    "scaler = MinMaxScaler()"
   ]
  },
  {
   "cell_type": "code",
   "execution_count": null,
   "metadata": {
    "colab": {
     "base_uri": "https://localhost:8080/"
    },
    "executionInfo": {
     "elapsed": 105,
     "status": "ok",
     "timestamp": 1701274388511,
     "user": {
      "displayName": "Neeraj Fullara",
      "userId": "05418981568757973235"
     },
     "user_tz": -330
    },
    "id": "5RXcnATNVbgw",
    "outputId": "aebd77ee-a00d-46eb-d3e3-1bfa3bb9c6a7"
   },
   "outputs": [],
   "source": [
    "scaler.fit_transform(df)"
   ]
  },
  {
   "cell_type": "code",
   "execution_count": null,
   "metadata": {
    "executionInfo": {
     "elapsed": 101,
     "status": "ok",
     "timestamp": 1701274388512,
     "user": {
      "displayName": "Neeraj Fullara",
      "userId": "05418981568757973235"
     },
     "user_tz": -330
    },
    "id": "caAsRXFGgfh_"
   },
   "outputs": [],
   "source": [
    "# Using pandas Library\n",
    "ndf = (df - df.min())/(df.max() - df.min())"
   ]
  },
  {
   "cell_type": "code",
   "execution_count": null,
   "metadata": {
    "colab": {
     "base_uri": "https://localhost:8080/",
     "height": 300
    },
    "executionInfo": {
     "elapsed": 100,
     "status": "ok",
     "timestamp": 1701274388512,
     "user": {
      "displayName": "Neeraj Fullara",
      "userId": "05418981568757973235"
     },
     "user_tz": -330
    },
    "id": "voQXiVyyc98w",
    "outputId": "4a09a50c-0b0b-4149-c918-2f825f3539ca"
   },
   "outputs": [],
   "source": [
    "ndf.describe()"
   ]
  },
  {
   "cell_type": "code",
   "execution_count": null,
   "metadata": {
    "colab": {
     "base_uri": "https://localhost:8080/",
     "height": 423
    },
    "executionInfo": {
     "elapsed": 98,
     "status": "ok",
     "timestamp": 1701274388512,
     "user": {
      "displayName": "Neeraj Fullara",
      "userId": "05418981568757973235"
     },
     "user_tz": -330
    },
    "id": "i70v20bMeKNl",
    "outputId": "07e1ab03-d71c-4da7-c90f-c0e9700ce9f5"
   },
   "outputs": [],
   "source": [
    "ndf"
   ]
  },
  {
   "cell_type": "code",
   "execution_count": null,
   "metadata": {
    "colab": {
     "base_uri": "https://localhost:8080/",
     "height": 858
    },
    "executionInfo": {
     "elapsed": 2891,
     "status": "ok",
     "timestamp": 1701274469046,
     "user": {
      "displayName": "Neeraj Fullara",
      "userId": "05418981568757973235"
     },
     "user_tz": -330
    },
    "id": "bJFBYLU8fkUN",
    "outputId": "405ff747-ca23-4d3b-f802-08d6f97c8ca8"
   },
   "outputs": [],
   "source": [
    "plt.figure(figsize=(13,10))\n",
    "sb.heatmap(ndf.corr(),annot= True)"
   ]
  },
  {
   "cell_type": "markdown",
   "metadata": {
    "id": "Fjry3_kFduBh"
   },
   "source": [
    "**TASK 3: Model Implementation**"
   ]
  },
  {
   "cell_type": "markdown",
   "metadata": {
    "id": "4-kB_6dYerb7"
   },
   "source": [
    "**In this I have implemented Linear Regression model from sklearn**"
   ]
  },
  {
   "cell_type": "code",
   "execution_count": null,
   "metadata": {
    "executionInfo": {
     "elapsed": 470,
     "status": "ok",
     "timestamp": 1701274587144,
     "user": {
      "displayName": "Neeraj Fullara",
      "userId": "05418981568757973235"
     },
     "user_tz": -330
    },
    "id": "DmS5aGn1dtCo"
   },
   "outputs": [],
   "source": [
    "# Train test slplit of data\n",
    "# Requirements\n",
    "from sklearn.model_selection import train_test_split\n",
    "from sklearn.linear_model import LinearRegression\n",
    "from sklearn import metrics"
   ]
  },
  {
   "cell_type": "code",
   "execution_count": null,
   "metadata": {
    "executionInfo": {
     "elapsed": 6,
     "status": "ok",
     "timestamp": 1701277765403,
     "user": {
      "displayName": "Neeraj Fullara",
      "userId": "05418981568757973235"
     },
     "user_tz": -330
    },
    "id": "a7FuEflads_T"
   },
   "outputs": [],
   "source": [
    "# Creating x, y for training and test set\n",
    "x = ndf[['nox','rm','dis','ptratio','lstat']]\n",
    "y = ndf['medv']\n",
    "\n",
    "# using train_test_split() from sklearn to create train and test sets\n",
    "x_train, x_test, y_train, y_test = train_test_split(x,y,test_size = 0.30,random_state = 5)"
   ]
  },
  {
   "cell_type": "code",
   "execution_count": null,
   "metadata": {
    "colab": {
     "base_uri": "https://localhost:8080/",
     "height": 206
    },
    "executionInfo": {
     "elapsed": 404,
     "status": "ok",
     "timestamp": 1701277769274,
     "user": {
      "displayName": "Neeraj Fullara",
      "userId": "05418981568757973235"
     },
     "user_tz": -330
    },
    "id": "s0LUv8zRByNb",
    "outputId": "c2353065-4868-429c-a77e-82fb373ac613"
   },
   "outputs": [],
   "source": [
    "x_train.head()"
   ]
  },
  {
   "cell_type": "code",
   "execution_count": null,
   "metadata": {
    "colab": {
     "base_uri": "https://localhost:8080/",
     "height": 423
    },
    "executionInfo": {
     "elapsed": 410,
     "status": "ok",
     "timestamp": 1701277783135,
     "user": {
      "displayName": "Neeraj Fullara",
      "userId": "05418981568757973235"
     },
     "user_tz": -330
    },
    "id": "weO-ggyzds8d",
    "outputId": "469096ec-ac51-42ce-e9c9-47ef5eb3e2b5"
   },
   "outputs": [],
   "source": [
    "# Using Regression on traing data\n",
    "\n",
    "regressor = LinearRegression()\n",
    "regressor.fit(x_train, y_train)\n",
    "y_prediction = regressor.predict(x_test)\n",
    "dft = pd.DataFrame({'Actual':y_test, 'Predicted' : y_prediction})\n",
    "dft"
   ]
  },
  {
   "cell_type": "code",
   "execution_count": null,
   "metadata": {
    "executionInfo": {
     "elapsed": 100,
     "status": "aborted",
     "timestamp": 1701274388521,
     "user": {
      "displayName": "Neeraj Fullara",
      "userId": "05418981568757973235"
     },
     "user_tz": -330
    },
    "id": "RRf6u90ods5o"
   },
   "outputs": [],
   "source": []
  },
  {
   "cell_type": "code",
   "execution_count": null,
   "metadata": {
    "executionInfo": {
     "elapsed": 100,
     "status": "aborted",
     "timestamp": 1701274388521,
     "user": {
      "displayName": "Neeraj Fullara",
      "userId": "05418981568757973235"
     },
     "user_tz": -330
    },
    "id": "tbN0KvZxds2u"
   },
   "outputs": [],
   "source": []
  },
  {
   "cell_type": "code",
   "execution_count": null,
   "metadata": {
    "executionInfo": {
     "elapsed": 100,
     "status": "aborted",
     "timestamp": 1701274388522,
     "user": {
      "displayName": "Neeraj Fullara",
      "userId": "05418981568757973235"
     },
     "user_tz": -330
    },
    "id": "B_C8nmxJdszo"
   },
   "outputs": [],
   "source": []
  },
  {
   "cell_type": "code",
   "execution_count": null,
   "metadata": {
    "executionInfo": {
     "elapsed": 100,
     "status": "aborted",
     "timestamp": 1701274388522,
     "user": {
      "displayName": "Neeraj Fullara",
      "userId": "05418981568757973235"
     },
     "user_tz": -330
    },
    "id": "NLDMPDcJdswY"
   },
   "outputs": [],
   "source": []
  }
 ],
 "metadata": {
  "colab": {
   "authorship_tag": "ABX9TyOq6gkPmzUNjX4omlmU1KI7",
   "provenance": []
  },
  "kernelspec": {
   "display_name": "Python 3 (ipykernel)",
   "language": "python",
   "name": "python3"
  },
  "language_info": {
   "codemirror_mode": {
    "name": "ipython",
    "version": 3
   },
   "file_extension": ".py",
   "mimetype": "text/x-python",
   "name": "python",
   "nbconvert_exporter": "python",
   "pygments_lexer": "ipython3",
   "version": "3.11.5"
  }
 },
 "nbformat": 4,
 "nbformat_minor": 1
}
